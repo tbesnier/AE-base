{
 "cells": [
  {
   "cell_type": "code",
   "execution_count": 1,
   "metadata": {},
   "outputs": [
    {
     "data": {
      "text/plain": [
       "'NVIDIA RTX A3000 Laptop GPU'"
      ]
     },
     "execution_count": 1,
     "metadata": {},
     "output_type": "execute_result"
    }
   ],
   "source": [
    "import numpy as np\n",
    "import json\n",
    "import os\n",
    "import copy\n",
    "import pickle\n",
    "\n",
    "import mesh_sampling\n",
    "import trimesh\n",
    "from shape_data import ShapeData\n",
    "from SimplePointNet import SimplePointNet, PointNetAutoEncoder, Decoder, Encoder, SimpleTransformer\n",
    "\n",
    "from autoencoder_dataset import autoencoder_dataset\n",
    "from torch.utils.data import DataLoader\n",
    "\n",
    "from spiral_utils import get_adj_trigs, generate_spirals\n",
    "from models import SpiralAutoencoder\n",
    "from train_funcs import train_autoencoder_dataloader\n",
    "from test_funcs import test_autoencoder_dataloader\n",
    "\n",
    "\n",
    "import torch\n",
    "torch.cuda.empty_cache()\n",
    "from tensorboardX import SummaryWriter\n",
    "\n",
    "from sklearn.metrics.pairwise import euclidean_distances\n",
    "meshpackage = 'trimesh' # 'mpi-mesh', 'trimesh'\n",
    "root_dir = '../Data'\n",
    "\n",
    "dataset = 'COMA'\n",
    "name = ''\n",
    "\n",
    "GPU = True\n",
    "device_idx = 0\n",
    "torch.cuda.get_device_name(device_idx)"
   ]
  },
  {
   "cell_type": "code",
   "execution_count": 2,
   "metadata": {},
   "outputs": [],
   "source": [
    "args = {}\n",
    "\n",
    "generative_model = 'autoencoder'\n",
    "downsample_method = 'COMA_downsample' # choose'COMA_downsample' or 'meshlab_downsample'\n",
    "\n",
    "# below are the arguments for the DFAUST run\n",
    "reference_mesh_file = os.path.join(root_dir, dataset, 'template', 'template.obj')\n",
    "downsample_directory = os.path.join(root_dir, dataset,'template', downsample_method)\n",
    "ds_factors = [4, 4, 4, 4]\n",
    "step_sizes = [2, 2, 1, 1, 1]\n",
    "filter_sizes_enc = [[64, 128], 64, [128, 64, 64]]\n",
    "filter_sizes_dec = [128]\n",
    "dilation_flag = True\n",
    "if dilation_flag:\n",
    "    dilation=[2, 2, 1, 1, 1] \n",
    "else:\n",
    "    dilation = None\n",
    "reference_points = [[3567,4051,4597]] #[[414]]  # [[3567,4051,4597]] used for COMA with 3 disconnected components\n",
    "\n",
    "args = {'generative_model': generative_model,\n",
    "        'name': name, 'data': os.path.join(root_dir, dataset, 'preprocessed_identity_pointnet_original',name),\n",
    "        'results_folder':  os.path.join(root_dir, dataset,'results_identity/pointnet_original_'+ generative_model),\n",
    "        'reference_mesh_file':reference_mesh_file, 'downsample_directory': downsample_directory,\n",
    "        'checkpoint_file': 'checkpoint',\n",
    "        'seed':2, 'loss':'sinkhorn',\n",
    "        'batch_size':16, 'num_epochs':25, 'eval_frequency':200, 'num_workers': 4,\n",
    "        'filter_sizes_enc': filter_sizes_enc, 'filter_sizes_dec': filter_sizes_dec,\n",
    "        'nz':128, \n",
    "        'ds_factors': ds_factors, 'step_sizes' : step_sizes, 'dilation': dilation,\n",
    "        'lr':1e-3, \n",
    "        'regularization': 5e-5,\n",
    "        'scheduler': True, 'decay_rate': 0.99,'decay_steps':1,  \n",
    "        'resume': False,\n",
    "        \n",
    "        'mode':'train', 'shuffle': True, 'nVal': 100, 'normalization': True}\n",
    "\n",
    "args['results_folder'] = os.path.join(args['results_folder'],'latent_'+str(args['nz']))\n",
    "    \n",
    "if not os.path.exists(os.path.join(args['results_folder'])):\n",
    "    os.makedirs(os.path.join(args['results_folder']))\n",
    "\n",
    "summary_path = os.path.join(args['results_folder'],'summaries',args['name'])\n",
    "if not os.path.exists(summary_path):\n",
    "    os.makedirs(summary_path)  \n",
    "    \n",
    "checkpoint_path = os.path.join(args['results_folder'],'checkpoints', args['name'])\n",
    "if not os.path.exists(checkpoint_path):\n",
    "    os.makedirs(checkpoint_path)\n",
    "    \n",
    "samples_path = os.path.join(args['results_folder'],'samples', args['name'])\n",
    "if not os.path.exists(samples_path):\n",
    "    os.makedirs(samples_path)\n",
    "    \n",
    "prediction_path = os.path.join(args['results_folder'],'predictions', args['name'])\n",
    "if not os.path.exists(prediction_path):\n",
    "    os.makedirs(prediction_path)\n",
    "\n",
    "if not os.path.exists(downsample_directory):\n",
    "    os.makedirs(downsample_directory)"
   ]
  },
  {
   "cell_type": "markdown",
   "metadata": {},
   "source": [
    "### Normalize data"
   ]
  },
  {
   "cell_type": "code",
   "execution_count": 3,
   "metadata": {},
   "outputs": [
    {
     "name": "stdout",
     "output_type": "stream",
     "text": [
      "Loading data .. \n",
      "... Done\n"
     ]
    }
   ],
   "source": [
    "np.random.seed(args['seed'])\n",
    "print(\"Loading data .. \")\n",
    "if not os.path.exists(args['data']+'/mean.npy') or not os.path.exists(args['data']+'/std.npy'):\n",
    "    shapedata =  ShapeData(nVal=args['nVal'], \n",
    "                          train_file=args['data']+'/train.npy', \n",
    "                          test_file=args['data']+'/test.npy', \n",
    "                          reference_mesh_file=args['reference_mesh_file'],\n",
    "                          normalization = args['normalization'],\n",
    "                          meshpackage = meshpackage, load_flag = True, mean_subtraction_only = False)\n",
    "    np.save(args['data']+'/mean.npy', shapedata.mean)\n",
    "    np.save(args['data']+'/std.npy', shapedata.std)\n",
    "else:\n",
    "    shapedata = ShapeData(nVal=args['nVal'], \n",
    "                         train_file=args['data']+'/train.npy',\n",
    "                         test_file=args['data']+'/test.npy', \n",
    "                         reference_mesh_file=args['reference_mesh_file'],\n",
    "                         normalization = args['normalization'],\n",
    "                         meshpackage = meshpackage, load_flag = False, mean_subtraction_only = False)\n",
    "    shapedata.mean = np.load(args['data']+'/mean.npy')\n",
    "    shapedata.std = np.load(args['data']+'/std.npy')\n",
    "    shapedata.n_vertex = shapedata.mean.shape[0]\n",
    "    shapedata.n_features = shapedata.mean.shape[1]\n",
    "    \n",
    "print(\"... Done\")    "
   ]
  },
  {
   "cell_type": "code",
   "execution_count": 4,
   "metadata": {},
   "outputs": [
    {
     "name": "stdout",
     "output_type": "stream",
     "text": [
      "cuda:0\n"
     ]
    }
   ],
   "source": [
    "torch.manual_seed(args['seed'])\n",
    "\n",
    "if GPU:\n",
    "    device = torch.device(\"cuda:\"+str(device_idx) if torch.cuda.is_available() else \"cpu\")\n",
    "else:\n",
    "    device = torch.device(\"cpu\")\n",
    "print(device)"
   ]
  },
  {
   "cell_type": "code",
   "execution_count": 5,
   "metadata": {},
   "outputs": [
    {
     "name": "stdout",
     "output_type": "stream",
     "text": [
      "64\n"
     ]
    }
   ],
   "source": [
    "# Building model, optimizer, and loss function\n",
    "\n",
    "dataset_train = autoencoder_dataset(root_dir = args['data'], points_dataset = 'train',\n",
    "                                           shapedata = shapedata,\n",
    "                                           normalization = args['normalization'])\n",
    "\n",
    "dataloader_train = DataLoader(dataset_train, batch_size=args['batch_size'],\\\n",
    "                                     shuffle = args['shuffle'], num_workers = args['num_workers'])\n",
    "\n",
    "dataset_val = autoencoder_dataset(root_dir = args['data'], points_dataset = 'val', \n",
    "                                         shapedata = shapedata,\n",
    "                                         normalization = args['normalization'])\n",
    "\n",
    "dataloader_val = DataLoader(dataset_val, batch_size=args['batch_size'],\\\n",
    "                                     shuffle = False, num_workers = args['num_workers'])\n",
    "\n",
    "dataset_test = autoencoder_dataset(root_dir = args['data'], points_dataset = 'test',\n",
    "                                          shapedata = shapedata,\n",
    "                                          normalization = args['normalization'])\n",
    "\n",
    "dataloader_test = DataLoader(dataset_test, batch_size=args['batch_size'],\\\n",
    "                                     shuffle = False, num_workers = args['num_workers'])\n",
    "\n",
    "\n",
    "if 'autoencoder' in args['generative_model']:\n",
    "        model = PointNetAutoEncoder(latent_size=args['nz'],\n",
    "                                    filter_enc = args['filter_sizes_enc'], \n",
    "                                    filter_dec = args['filter_sizes_dec'],  \n",
    "                                    num_points=shapedata.n_vertex+1, \n",
    "                                    device=device).to(device)                  \n",
    "\n",
    "\n",
    "optim = torch.optim.Adam(model.parameters(),lr=args['lr'],weight_decay=args['regularization'])\n",
    "if args['scheduler']:\n",
    "    scheduler=torch.optim.lr_scheduler.StepLR(optim, args['decay_steps'],gamma=args['decay_rate'])\n",
    "else:\n",
    "    scheduler = None"
   ]
  },
  {
   "cell_type": "markdown",
   "metadata": {},
   "source": [
    "### Loss functions"
   ]
  },
  {
   "cell_type": "code",
   "execution_count": 6,
   "metadata": {},
   "outputs": [],
   "source": [
    "template_mesh = trimesh.load(\"../Data/COMA/template/template.obj\")\n",
    "faces = torch.Tensor(template_mesh.faces)\n",
    "mesh1 = trimesh.load_mesh(\"../datasets/COMA/FaceTalk_170725_00137_TA/bareteeth/bareteeth.000001.ply\")\n",
    "mesh2 = trimesh.load_mesh(\"../datasets/COMA/FaceTalk_170728_03272_TA/bareteeth/bareteeth.000001.ply\")"
   ]
  },
  {
   "cell_type": "code",
   "execution_count": 7,
   "metadata": {},
   "outputs": [],
   "source": [
    "torchdtype = torch.float"
   ]
  },
  {
   "cell_type": "code",
   "execution_count": 8,
   "metadata": {},
   "outputs": [],
   "source": [
    "def loss_edges(V_hat, V):\n",
    "    \n",
    "    E = 14995     #for COMA: 14995\n",
    "    \n",
    "    L = 1/E\n",
    "    \n",
    "    return L"
   ]
  },
  {
   "cell_type": "code",
   "execution_count": 9,
   "metadata": {},
   "outputs": [],
   "source": [
    "if args['loss']=='varifold':\n",
    "    \n",
    "    sigma = 0.1\n",
    "    sigma = torch.tensor([sigma], dtype=torchdtype, device=device)\n",
    "    \n",
    "    import lddmm_utils\n",
    "    # PyKeOps counterpart\n",
    "    KeOpsdeviceId = device.index  # id of Gpu device (in case Gpu is  used)\n",
    "    KeOpsdtype = torchdtype.__str__().split(\".\")[1]  # 'float32'\n",
    "    \n",
    "    new_faces = faces.repeat(args['batch_size'],1,1)\n",
    "    def loss_varifold(outputs, targets):\n",
    "        new_faces = faces.repeat(outputs.shape[0],1,1)\n",
    "        V1, F1 = outputs.to(dtype=torchdtype, device=device).requires_grad_(True), new_faces.to(dtype=torch.int32, device=device)\n",
    "        V2, F2 = targets.to(dtype=torchdtype, device=device).requires_grad_(True), new_faces.to(dtype=torch.int32, device=device)\n",
    "        \n",
    "        L = torch.stack([lddmm_utils.lossVarifoldSurf(F1[i], V2[i], F2[i],\n",
    "                          lddmm_utils.GaussLinKernel_varifold(sigma=sigma))(V1[i]) for i in range(new_faces.shape[0])]).requires_grad_(True).sqrt().mean()\n",
    "        \n",
    "        return L\n",
    "    loss_fn = loss_varifold"
   ]
  },
  {
   "cell_type": "code",
   "execution_count": 10,
   "metadata": {},
   "outputs": [],
   "source": [
    "if args['loss']=='current':\n",
    "    \n",
    "    sigma = 0.1\n",
    "    sigma = torch.tensor([sigma], dtype=torchdtype, device=device)\n",
    "    \n",
    "    import lddmm_utils\n",
    "    # PyKeOps counterpart\n",
    "    KeOpsdeviceId = device.index  # id of Gpu device (in case Gpu is  used)\n",
    "    KeOpsdtype = torchdtype.__str__().split(\".\")[1]  # 'float32'\n",
    "    \n",
    "    new_faces = faces.repeat(args['batch_size'],1,1)\n",
    "    def loss_varifold(outputs, targets):\n",
    "        new_faces = faces.repeat(outputs.shape[0],1,1)\n",
    "        V1, F1 = outputs.to(dtype=torchdtype, device=device).requires_grad_(True), new_faces.to(dtype=torch.int32, device=device)\n",
    "        V2, F2 = targets.to(dtype=torchdtype, device=device).requires_grad_(True), new_faces.to(dtype=torch.int32, device=device)\n",
    "        \n",
    "        L = torch.stack([lddmm_utils.lossVarifoldSurf(F1[i], V2[i], F2[i],\n",
    "                          lddmm_utils.GaussLinKernel_current(sigma=sigma))(V1[i]) for i in range(new_faces.shape[0])]).requires_grad_(True).sqrt().mean()\n",
    "        \n",
    "        return L\n",
    "    loss_fn = loss_varifold"
   ]
  },
  {
   "cell_type": "code",
   "execution_count": 11,
   "metadata": {
    "scrolled": true
   },
   "outputs": [],
   "source": [
    "if args['loss']=='chamfer':\n",
    "    from chamfer_distance import ChamferDistance as chamfer_dist\n",
    "    def loss_chamfer(outputs, targets):\n",
    "        dist1, dist2, idx1, idx2 = chamfer_dist(outputs,targets)\n",
    "        loss = (torch.mean(dist1)) + (torch.mean(dist2))\n",
    "        return loss\n",
    "    loss_fn = loss_chamfer"
   ]
  },
  {
   "cell_type": "code",
   "execution_count": 12,
   "metadata": {},
   "outputs": [],
   "source": [
    "if args['loss']=='l1':\n",
    "    def loss_l1(outputs, targets):\n",
    "        #print(outputs)\n",
    "        L = torch.abs(outputs - targets).mean()\n",
    "        return L \n",
    "    loss_fn = loss_l1"
   ]
  },
  {
   "cell_type": "code",
   "execution_count": 13,
   "metadata": {},
   "outputs": [],
   "source": [
    "if args['loss']=='sinkhorn':\n",
    "    \n",
    "    from geomloss import SamplesLoss\n",
    "    \n",
    "    Loss = SamplesLoss(\"sinkhorn\", p=1, blur=0.01, scaling=0.9, truncate=1) #p=1 ou p=2\n",
    "    \n",
    "    def get_center_area(V, F):\n",
    "        V0, V1, V2 = (\n",
    "            V.index_select(0, F[:, 0][0]),\n",
    "            V.index_select(0, F[:, 1][0]),\n",
    "            V.index_select(0, F[:, 2][0]),\n",
    "        )\n",
    "        centers, normals = (V0 + V1 + V2) / 3, 0.5 * torch.cross(V1 - V0, V2 - V0)\n",
    "        areas = (normals ** 2).sum(dim=1)[:, None].sqrt()\n",
    "        return centers, areas\n",
    "    \n",
    "    new_faces = faces.repeat(args['batch_size'],1,1)\n",
    "    \n",
    "    def loss_sinkhorn(outputs,targets):\n",
    "        new_faces = faces.repeat(outputs.shape[0],1,1)\n",
    "        V1, F1 = outputs.to(dtype=torchdtype, device=device).requires_grad_(True), new_faces.to(dtype=torch.int32, device=device)\n",
    "        V2, F2 = targets.to(dtype=torchdtype, device=device).requires_grad_(True), new_faces.to(dtype=torch.int32, device=device)\n",
    "\n",
    "        centers1, areas1 = get_center_area(V1, F1)\n",
    "        centers2, areas2 = get_center_area(V2, F2)\n",
    "        \n",
    "        L = torch.stack([Loss(areas1[i],centers1[i],areas2[i],centers2[i]) for i in range(centers1.shape[0])]).requires_grad_(True).mean()\n",
    "        return L\n",
    "    loss_fn = loss_sinkhorn"
   ]
  },
  {
   "cell_type": "code",
   "execution_count": 14,
   "metadata": {},
   "outputs": [
    {
     "name": "stdout",
     "output_type": "stream",
     "text": [
      "Total number of parameters is: 2217385\n",
      "PointNetAutoEncoder(\n",
      "  (encoder): Encoder(\n",
      "    (ptnet): SimplePointNet(\n",
      "      (conv_layers): ModuleList(\n",
      "        (0): Sequential(\n",
      "          (0): Conv1d(3, 64, kernel_size=(1,), stride=(1,))\n",
      "          (1): BatchNorm1d(64, eps=1e-05, momentum=0.1, affine=True, track_running_stats=True)\n",
      "          (2): ReLU()\n",
      "        )\n",
      "        (1): Sequential(\n",
      "          (0): Conv1d(64, 128, kernel_size=(1,), stride=(1,))\n",
      "          (1): BatchNorm1d(128, eps=1e-05, momentum=0.1, affine=True, track_running_stats=True)\n",
      "          (2): ReLU()\n",
      "        )\n",
      "        (2): Sequential(\n",
      "          (0): Conv1d(128, 64, kernel_size=(1,), stride=(1,))\n",
      "          (1): BatchNorm1d(64, eps=1e-05, momentum=0.1, affine=True, track_running_stats=True)\n",
      "          (2): ReLU()\n",
      "        )\n",
      "      )\n",
      "      (transformers): ModuleList(\n",
      "        (0): SimpleTransformer(\n",
      "          (conv_layers): ModuleList(\n",
      "            (0): Sequential(\n",
      "              (0): Conv1d(3, 64, kernel_size=(1,), stride=(1,))\n",
      "              (1): BatchNorm1d(64, eps=1e-05, momentum=0.1, affine=True, track_running_stats=True)\n",
      "              (2): ReLU()\n",
      "            )\n",
      "            (1): Sequential(\n",
      "              (0): Conv1d(64, 128, kernel_size=(1,), stride=(1,))\n",
      "              (1): BatchNorm1d(128, eps=1e-05, momentum=0.1, affine=True, track_running_stats=True)\n",
      "              (2): ReLU()\n",
      "            )\n",
      "            (2): Sequential(\n",
      "              (0): Conv1d(128, 512, kernel_size=(1,), stride=(1,))\n",
      "              (1): BatchNorm1d(512, eps=1e-05, momentum=0.1, affine=True, track_running_stats=True)\n",
      "              (2): ReLU()\n",
      "            )\n",
      "          )\n",
      "          (fc_layers): ModuleList(\n",
      "            (0): Sequential(\n",
      "              (0): Linear(in_features=512, out_features=256, bias=True)\n",
      "              (1): ReLU()\n",
      "            )\n",
      "            (1): Linear(in_features=256, out_features=9, bias=True)\n",
      "          )\n",
      "        )\n",
      "      )\n",
      "      (fc_layers): ModuleList(\n",
      "        (0): Sequential(\n",
      "          (0): Linear(in_features=64, out_features=128, bias=True)\n",
      "          (1): BatchNorm1d(128, eps=1e-05, momentum=0.1, affine=True, track_running_stats=True)\n",
      "          (2): ReLU()\n",
      "        )\n",
      "        (1): Sequential(\n",
      "          (0): Linear(in_features=128, out_features=64, bias=True)\n",
      "          (1): BatchNorm1d(64, eps=1e-05, momentum=0.1, affine=True, track_running_stats=True)\n",
      "          (2): ReLU()\n",
      "        )\n",
      "        (2): Sequential(\n",
      "          (0): Linear(in_features=64, out_features=64, bias=True)\n",
      "          (1): BatchNorm1d(64, eps=1e-05, momentum=0.1, affine=True, track_running_stats=True)\n",
      "          (2): ReLU()\n",
      "        )\n",
      "        (3): Linear(in_features=64, out_features=128, bias=True)\n",
      "      )\n",
      "    )\n",
      "  )\n",
      "  (decoder): Decoder(\n",
      "    (fc1): Sequential(\n",
      "      (0): Linear(in_features=128, out_features=128, bias=True)\n",
      "      (1): LeakyReLU(negative_slope=0.01)\n",
      "      (2): Linear(in_features=128, out_features=15072, bias=True)\n",
      "    )\n",
      "  )\n",
      ")\n"
     ]
    }
   ],
   "source": [
    "params = sum(p.numel() for p in model.parameters() if p.requires_grad)\n",
    "print(\"Total number of parameters is: {}\".format(params)) \n",
    "print(model)\n",
    "# print(M[4].v.shape)"
   ]
  },
  {
   "cell_type": "code",
   "execution_count": 15,
   "metadata": {
    "scrolled": true
   },
   "outputs": [
    {
     "name": "stderr",
     "output_type": "stream",
     "text": [
      "  0%|                                                                                                                                                                                                   | 0/94 [00:00<?, ?it/s]\n"
     ]
    },
    {
     "ename": "ValueError",
     "evalue": "Without batches, input weights 'α' should be encoded as (N,) or (N,1) tensors.",
     "output_type": "error",
     "traceback": [
      "\u001b[0;31m---------------------------------------------------------------------------\u001b[0m",
      "\u001b[0;31mValueError\u001b[0m                                Traceback (most recent call last)",
      "Input \u001b[0;32mIn [15]\u001b[0m, in \u001b[0;36m<cell line: 1>\u001b[0;34m()\u001b[0m\n\u001b[1;32m     16\u001b[0m     start_epoch \u001b[38;5;241m=\u001b[39m \u001b[38;5;241m0\u001b[39m\n\u001b[1;32m     18\u001b[0m \u001b[38;5;28;01mif\u001b[39;00m args[\u001b[38;5;124m'\u001b[39m\u001b[38;5;124mgenerative_model\u001b[39m\u001b[38;5;124m'\u001b[39m] \u001b[38;5;241m==\u001b[39m \u001b[38;5;124m'\u001b[39m\u001b[38;5;124mautoencoder\u001b[39m\u001b[38;5;124m'\u001b[39m:\n\u001b[0;32m---> 19\u001b[0m     \u001b[43mtrain_autoencoder_dataloader\u001b[49m\u001b[43m(\u001b[49m\u001b[43mdataloader_train\u001b[49m\u001b[43m,\u001b[49m\u001b[43m \u001b[49m\u001b[43mdataloader_val\u001b[49m\u001b[43m,\u001b[49m\n\u001b[1;32m     20\u001b[0m \u001b[43m                      \u001b[49m\u001b[43mdevice\u001b[49m\u001b[43m,\u001b[49m\u001b[43m \u001b[49m\u001b[43mmodel\u001b[49m\u001b[43m,\u001b[49m\u001b[43m \u001b[49m\u001b[43moptim\u001b[49m\u001b[43m,\u001b[49m\u001b[43m \u001b[49m\u001b[43mloss_fn\u001b[49m\u001b[43m,\u001b[49m\n\u001b[1;32m     21\u001b[0m \u001b[43m                      \u001b[49m\u001b[43mbsize\u001b[49m\u001b[43m \u001b[49m\u001b[38;5;241;43m=\u001b[39;49m\u001b[43m \u001b[49m\u001b[43margs\u001b[49m\u001b[43m[\u001b[49m\u001b[38;5;124;43m'\u001b[39;49m\u001b[38;5;124;43mbatch_size\u001b[39;49m\u001b[38;5;124;43m'\u001b[39;49m\u001b[43m]\u001b[49m\u001b[43m,\u001b[49m\n\u001b[1;32m     22\u001b[0m \u001b[43m                      \u001b[49m\u001b[43mstart_epoch\u001b[49m\u001b[43m \u001b[49m\u001b[38;5;241;43m=\u001b[39;49m\u001b[43m \u001b[49m\u001b[43mstart_epoch\u001b[49m\u001b[43m,\u001b[49m\n\u001b[1;32m     23\u001b[0m \u001b[43m                      \u001b[49m\u001b[43mn_epochs\u001b[49m\u001b[43m \u001b[49m\u001b[38;5;241;43m=\u001b[39;49m\u001b[43m \u001b[49m\u001b[43margs\u001b[49m\u001b[43m[\u001b[49m\u001b[38;5;124;43m'\u001b[39;49m\u001b[38;5;124;43mnum_epochs\u001b[39;49m\u001b[38;5;124;43m'\u001b[39;49m\u001b[43m]\u001b[49m\u001b[43m,\u001b[49m\n\u001b[1;32m     24\u001b[0m \u001b[43m                      \u001b[49m\u001b[43meval_freq\u001b[49m\u001b[43m \u001b[49m\u001b[38;5;241;43m=\u001b[39;49m\u001b[43m \u001b[49m\u001b[43margs\u001b[49m\u001b[43m[\u001b[49m\u001b[38;5;124;43m'\u001b[39;49m\u001b[38;5;124;43meval_frequency\u001b[39;49m\u001b[38;5;124;43m'\u001b[39;49m\u001b[43m]\u001b[49m\u001b[43m,\u001b[49m\n\u001b[1;32m     25\u001b[0m \u001b[43m                      \u001b[49m\u001b[43mscheduler\u001b[49m\u001b[43m \u001b[49m\u001b[38;5;241;43m=\u001b[39;49m\u001b[43m \u001b[49m\u001b[43mscheduler\u001b[49m\u001b[43m,\u001b[49m\n\u001b[1;32m     26\u001b[0m \u001b[43m                      \u001b[49m\u001b[43mwriter\u001b[49m\u001b[43m \u001b[49m\u001b[38;5;241;43m=\u001b[39;49m\u001b[43m \u001b[49m\u001b[43mwriter\u001b[49m\u001b[43m,\u001b[49m\n\u001b[1;32m     27\u001b[0m \u001b[43m                      \u001b[49m\u001b[43msave_recons\u001b[49m\u001b[38;5;241;43m=\u001b[39;49m\u001b[38;5;28;43;01mTrue\u001b[39;49;00m\u001b[43m,\u001b[49m\n\u001b[1;32m     28\u001b[0m \u001b[43m                      \u001b[49m\u001b[43mshapedata\u001b[49m\u001b[38;5;241;43m=\u001b[39;49m\u001b[43mshapedata\u001b[49m\u001b[43m,\u001b[49m\n\u001b[1;32m     29\u001b[0m \u001b[43m                      \u001b[49m\u001b[43mmetadata_dir\u001b[49m\u001b[38;5;241;43m=\u001b[39;49m\u001b[43mcheckpoint_path\u001b[49m\u001b[43m,\u001b[49m\u001b[43m \u001b[49m\u001b[43msamples_dir\u001b[49m\u001b[38;5;241;43m=\u001b[39;49m\u001b[43msamples_path\u001b[49m\u001b[43m,\u001b[49m\n\u001b[1;32m     30\u001b[0m \u001b[43m                      \u001b[49m\u001b[43mcheckpoint_path\u001b[49m\u001b[43m \u001b[49m\u001b[38;5;241;43m=\u001b[39;49m\u001b[43m \u001b[49m\u001b[43margs\u001b[49m\u001b[43m[\u001b[49m\u001b[38;5;124;43m'\u001b[39;49m\u001b[38;5;124;43mcheckpoint_file\u001b[39;49m\u001b[38;5;124;43m'\u001b[39;49m\u001b[43m]\u001b[49m\u001b[43m)\u001b[49m\n",
      "File \u001b[0;32m~/phd/projects/AE-base/train_funcs.py:30\u001b[0m, in \u001b[0;36mtrain_autoencoder_dataloader\u001b[0;34m(dataloader_train, dataloader_val, device, model, optim, loss_fn, bsize, start_epoch, n_epochs, eval_freq, scheduler, writer, save_recons, shapedata, metadata_dir, samples_dir, checkpoint_path)\u001b[0m\n\u001b[1;32m     27\u001b[0m cur_bsize \u001b[38;5;241m=\u001b[39m tx\u001b[38;5;241m.\u001b[39mshape[\u001b[38;5;241m0\u001b[39m]\n\u001b[1;32m     29\u001b[0m tx_hat \u001b[38;5;241m=\u001b[39m model(tx)\n\u001b[0;32m---> 30\u001b[0m loss \u001b[38;5;241m=\u001b[39m \u001b[43mloss_fn\u001b[49m\u001b[43m(\u001b[49m\u001b[43mtx\u001b[49m\u001b[43m,\u001b[49m\u001b[43m \u001b[49m\u001b[43mtx_hat\u001b[49m\u001b[43m)\u001b[49m\n\u001b[1;32m     32\u001b[0m loss\u001b[38;5;241m.\u001b[39mbackward()\n\u001b[1;32m     33\u001b[0m optim\u001b[38;5;241m.\u001b[39mstep()\n",
      "Input \u001b[0;32mIn [13]\u001b[0m, in \u001b[0;36mloss_sinkhorn\u001b[0;34m(outputs, targets)\u001b[0m\n\u001b[1;32m     24\u001b[0m centers1, areas1 \u001b[38;5;241m=\u001b[39m get_center_area(V1, F1)\n\u001b[1;32m     25\u001b[0m centers2, areas2 \u001b[38;5;241m=\u001b[39m get_center_area(V2, F2)\n\u001b[0;32m---> 27\u001b[0m L \u001b[38;5;241m=\u001b[39m torch\u001b[38;5;241m.\u001b[39mstack([Loss(areas1[i],centers1[i],areas2[i],centers2[i]) \u001b[38;5;28;01mfor\u001b[39;00m i \u001b[38;5;129;01min\u001b[39;00m \u001b[38;5;28mrange\u001b[39m(centers1\u001b[38;5;241m.\u001b[39mshape[\u001b[38;5;241m0\u001b[39m])])\u001b[38;5;241m.\u001b[39mrequires_grad_(\u001b[38;5;28;01mTrue\u001b[39;00m)\u001b[38;5;241m.\u001b[39mmean()\n\u001b[1;32m     28\u001b[0m \u001b[38;5;28;01mreturn\u001b[39;00m L\n",
      "Input \u001b[0;32mIn [13]\u001b[0m, in \u001b[0;36m<listcomp>\u001b[0;34m(.0)\u001b[0m\n\u001b[1;32m     24\u001b[0m centers1, areas1 \u001b[38;5;241m=\u001b[39m get_center_area(V1, F1)\n\u001b[1;32m     25\u001b[0m centers2, areas2 \u001b[38;5;241m=\u001b[39m get_center_area(V2, F2)\n\u001b[0;32m---> 27\u001b[0m L \u001b[38;5;241m=\u001b[39m torch\u001b[38;5;241m.\u001b[39mstack([\u001b[43mLoss\u001b[49m\u001b[43m(\u001b[49m\u001b[43mareas1\u001b[49m\u001b[43m[\u001b[49m\u001b[43mi\u001b[49m\u001b[43m]\u001b[49m\u001b[43m,\u001b[49m\u001b[43mcenters1\u001b[49m\u001b[43m[\u001b[49m\u001b[43mi\u001b[49m\u001b[43m]\u001b[49m\u001b[43m,\u001b[49m\u001b[43mareas2\u001b[49m\u001b[43m[\u001b[49m\u001b[43mi\u001b[49m\u001b[43m]\u001b[49m\u001b[43m,\u001b[49m\u001b[43mcenters2\u001b[49m\u001b[43m[\u001b[49m\u001b[43mi\u001b[49m\u001b[43m]\u001b[49m\u001b[43m)\u001b[49m \u001b[38;5;28;01mfor\u001b[39;00m i \u001b[38;5;129;01min\u001b[39;00m \u001b[38;5;28mrange\u001b[39m(centers1\u001b[38;5;241m.\u001b[39mshape[\u001b[38;5;241m0\u001b[39m])])\u001b[38;5;241m.\u001b[39mrequires_grad_(\u001b[38;5;28;01mTrue\u001b[39;00m)\u001b[38;5;241m.\u001b[39mmean()\n\u001b[1;32m     28\u001b[0m \u001b[38;5;28;01mreturn\u001b[39;00m L\n",
      "File \u001b[0;32m~/anaconda3/envs/AE-base/lib/python3.10/site-packages/torch/nn/modules/module.py:1190\u001b[0m, in \u001b[0;36mModule._call_impl\u001b[0;34m(self, *input, **kwargs)\u001b[0m\n\u001b[1;32m   1186\u001b[0m \u001b[38;5;66;03m# If we don't have any hooks, we want to skip the rest of the logic in\u001b[39;00m\n\u001b[1;32m   1187\u001b[0m \u001b[38;5;66;03m# this function, and just call forward.\u001b[39;00m\n\u001b[1;32m   1188\u001b[0m \u001b[38;5;28;01mif\u001b[39;00m \u001b[38;5;129;01mnot\u001b[39;00m (\u001b[38;5;28mself\u001b[39m\u001b[38;5;241m.\u001b[39m_backward_hooks \u001b[38;5;129;01mor\u001b[39;00m \u001b[38;5;28mself\u001b[39m\u001b[38;5;241m.\u001b[39m_forward_hooks \u001b[38;5;129;01mor\u001b[39;00m \u001b[38;5;28mself\u001b[39m\u001b[38;5;241m.\u001b[39m_forward_pre_hooks \u001b[38;5;129;01mor\u001b[39;00m _global_backward_hooks\n\u001b[1;32m   1189\u001b[0m         \u001b[38;5;129;01mor\u001b[39;00m _global_forward_hooks \u001b[38;5;129;01mor\u001b[39;00m _global_forward_pre_hooks):\n\u001b[0;32m-> 1190\u001b[0m     \u001b[38;5;28;01mreturn\u001b[39;00m \u001b[43mforward_call\u001b[49m\u001b[43m(\u001b[49m\u001b[38;5;241;43m*\u001b[39;49m\u001b[38;5;28;43minput\u001b[39;49m\u001b[43m,\u001b[49m\u001b[43m \u001b[49m\u001b[38;5;241;43m*\u001b[39;49m\u001b[38;5;241;43m*\u001b[39;49m\u001b[43mkwargs\u001b[49m\u001b[43m)\u001b[49m\n\u001b[1;32m   1191\u001b[0m \u001b[38;5;66;03m# Do not call functions when jit is used\u001b[39;00m\n\u001b[1;32m   1192\u001b[0m full_backward_hooks, non_full_backward_hooks \u001b[38;5;241m=\u001b[39m [], []\n",
      "File \u001b[0;32m~/anaconda3/envs/AE-base/lib/python3.10/site-packages/geomloss/samples_loss.py:217\u001b[0m, in \u001b[0;36mSamplesLoss.forward\u001b[0;34m(self, *args)\u001b[0m\n\u001b[1;32m    211\u001b[0m \u001b[38;5;124;03m\"\"\"Computes the loss between sampled measures.\u001b[39;00m\n\u001b[1;32m    212\u001b[0m \n\u001b[1;32m    213\u001b[0m \u001b[38;5;124;03mDocumentation and examples: Soon!\u001b[39;00m\n\u001b[1;32m    214\u001b[0m \u001b[38;5;124;03mUntil then, please check the tutorials :-)\"\"\"\u001b[39;00m\n\u001b[1;32m    216\u001b[0m l_x, α, x, l_y, β, y \u001b[38;5;241m=\u001b[39m \u001b[38;5;28mself\u001b[39m\u001b[38;5;241m.\u001b[39mprocess_args(\u001b[38;5;241m*\u001b[39margs)\n\u001b[0;32m--> 217\u001b[0m B, N, M, D, l_x, α, l_y, β \u001b[38;5;241m=\u001b[39m \u001b[38;5;28;43mself\u001b[39;49m\u001b[38;5;241;43m.\u001b[39;49m\u001b[43mcheck_shapes\u001b[49m\u001b[43m(\u001b[49m\u001b[43ml_x\u001b[49m\u001b[43m,\u001b[49m\u001b[43m \u001b[49m\u001b[43mα\u001b[49m\u001b[43m,\u001b[49m\u001b[43m \u001b[49m\u001b[43mx\u001b[49m\u001b[43m,\u001b[49m\u001b[43m \u001b[49m\u001b[43ml_y\u001b[49m\u001b[43m,\u001b[49m\u001b[43m \u001b[49m\u001b[43mβ\u001b[49m\u001b[43m,\u001b[49m\u001b[43m \u001b[49m\u001b[43my\u001b[49m\u001b[43m)\u001b[49m\n\u001b[1;32m    219\u001b[0m backend \u001b[38;5;241m=\u001b[39m (\n\u001b[1;32m    220\u001b[0m     \u001b[38;5;28mself\u001b[39m\u001b[38;5;241m.\u001b[39mbackend\n\u001b[1;32m    221\u001b[0m )  \u001b[38;5;66;03m# Choose the backend -----------------------------------------\u001b[39;00m\n\u001b[1;32m    222\u001b[0m \u001b[38;5;28;01mif\u001b[39;00m l_x \u001b[38;5;129;01mis\u001b[39;00m \u001b[38;5;129;01mnot\u001b[39;00m \u001b[38;5;28;01mNone\u001b[39;00m \u001b[38;5;129;01mor\u001b[39;00m l_y \u001b[38;5;129;01mis\u001b[39;00m \u001b[38;5;129;01mnot\u001b[39;00m \u001b[38;5;28;01mNone\u001b[39;00m:\n",
      "File \u001b[0;32m~/anaconda3/envs/AE-base/lib/python3.10/site-packages/geomloss/samples_loss.py:364\u001b[0m, in \u001b[0;36mSamplesLoss.check_shapes\u001b[0;34m(self, l_x, α, x, l_y, β, y)\u001b[0m\n\u001b[1;32m    362\u001b[0m \u001b[38;5;28;01melif\u001b[39;00m α\u001b[38;5;241m.\u001b[39mdim() \u001b[38;5;241m==\u001b[39m \u001b[38;5;241m2\u001b[39m:\n\u001b[1;32m    363\u001b[0m     \u001b[38;5;28;01mif\u001b[39;00m α\u001b[38;5;241m.\u001b[39mshape[\u001b[38;5;241m1\u001b[39m] \u001b[38;5;241m>\u001b[39m \u001b[38;5;241m1\u001b[39m:\n\u001b[0;32m--> 364\u001b[0m         \u001b[38;5;28;01mraise\u001b[39;00m \u001b[38;5;167;01mValueError\u001b[39;00m(\n\u001b[1;32m    365\u001b[0m             \u001b[38;5;124m\"\u001b[39m\u001b[38;5;124mWithout batches, input weights \u001b[39m\u001b[38;5;124m'\u001b[39m\u001b[38;5;124mα\u001b[39m\u001b[38;5;124m'\u001b[39m\u001b[38;5;124m should be encoded as (N,) or (N,1) tensors.\u001b[39m\u001b[38;5;124m\"\u001b[39m\n\u001b[1;32m    366\u001b[0m         )\n\u001b[1;32m    367\u001b[0m     \u001b[38;5;28;01mif\u001b[39;00m β\u001b[38;5;241m.\u001b[39mshape[\u001b[38;5;241m1\u001b[39m] \u001b[38;5;241m>\u001b[39m \u001b[38;5;241m1\u001b[39m:\n\u001b[1;32m    368\u001b[0m         \u001b[38;5;28;01mraise\u001b[39;00m \u001b[38;5;167;01mValueError\u001b[39;00m(\n\u001b[1;32m    369\u001b[0m             \u001b[38;5;124m\"\u001b[39m\u001b[38;5;124mWithout batches, input weights \u001b[39m\u001b[38;5;124m'\u001b[39m\u001b[38;5;124mβ\u001b[39m\u001b[38;5;124m'\u001b[39m\u001b[38;5;124m should be encoded as (M,) or (M,1) tensors.\u001b[39m\u001b[38;5;124m\"\u001b[39m\n\u001b[1;32m    370\u001b[0m         )\n",
      "\u001b[0;31mValueError\u001b[0m: Without batches, input weights 'α' should be encoded as (N,) or (N,1) tensors."
     ]
    }
   ],
   "source": [
    "if args['mode'] == 'train':\n",
    "    writer = SummaryWriter(summary_path)\n",
    "    with open(os.path.join(args['results_folder'],'checkpoints', args['name'] +'_params.json'),'w') as fp:\n",
    "        saveparams = copy.deepcopy(args)\n",
    "        json.dump(saveparams, fp)\n",
    "        \n",
    "    if args['resume']:\n",
    "            print('loading checkpoint from file %s'%(os.path.join(checkpoint_path,args['checkpoint_file'])))\n",
    "            checkpoint_dict = torch.load(os.path.join(checkpoint_path,args['checkpoint_file']+'.pth.tar'),map_location=device)\n",
    "            start_epoch = checkpoint_dict['epoch'] + 1\n",
    "            model.load_state_dict(checkpoint_dict['autoencoder_state_dict'])\n",
    "            optim.load_state_dict(checkpoint_dict['optimizer_state_dict'])\n",
    "            scheduler.load_state_dict(checkpoint_dict['scheduler_state_dict'])\n",
    "            print('Resuming from epoch %s'%(str(start_epoch)))     \n",
    "    else:\n",
    "        start_epoch = 0\n",
    "        \n",
    "    if args['generative_model'] == 'autoencoder':\n",
    "        train_autoencoder_dataloader(dataloader_train, dataloader_val,\n",
    "                          device, model, optim, loss_fn,\n",
    "                          bsize = args['batch_size'],\n",
    "                          start_epoch = start_epoch,\n",
    "                          n_epochs = args['num_epochs'],\n",
    "                          eval_freq = args['eval_frequency'],\n",
    "                          scheduler = scheduler,\n",
    "                          writer = writer,\n",
    "                          save_recons=True,\n",
    "                          shapedata=shapedata,\n",
    "                          metadata_dir=checkpoint_path, samples_dir=samples_path,\n",
    "                          checkpoint_path = args['checkpoint_file'])"
   ]
  },
  {
   "cell_type": "code",
   "execution_count": null,
   "metadata": {},
   "outputs": [],
   "source": [
    "args['mode']='test'\n",
    "if args['mode'] == 'test':\n",
    "    print('loading checkpoint from file %s'%(os.path.join(checkpoint_path,args['checkpoint_file']+'.pth.tar')))\n",
    "    checkpoint_dict = torch.load(os.path.join(checkpoint_path,args['checkpoint_file']+'.pth.tar'),map_location=device)\n",
    "    model.load_state_dict(checkpoint_dict['autoencoder_state_dict'])\n",
    "        \n",
    "    targets, predictions, norm_l1_loss, l2_loss = test_autoencoder_dataloader(device, model, dataloader_test, \n",
    "                                                                     shapedata, mm_constant = 1000)    \n",
    "    np.save(os.path.join(prediction_path,'predictions'), predictions)\n",
    "    np.save(os.path.join(prediction_path,'targets'), targets)\n",
    "        \n",
    "    print('autoencoder: normalized loss', norm_l1_loss)\n",
    "    \n",
    "    print('autoencoder: euclidean distance in mm=', l2_loss)"
   ]
  },
  {
   "cell_type": "code",
   "execution_count": null,
   "metadata": {},
   "outputs": [],
   "source": []
  }
 ],
 "metadata": {
  "kernelspec": {
   "display_name": "Python 3 (ipykernel)",
   "language": "python",
   "name": "python3"
  },
  "language_info": {
   "codemirror_mode": {
    "name": "ipython",
    "version": 3
   },
   "file_extension": ".py",
   "mimetype": "text/x-python",
   "name": "python",
   "nbconvert_exporter": "python",
   "pygments_lexer": "ipython3",
   "version": "3.10.6"
  }
 },
 "nbformat": 4,
 "nbformat_minor": 2
}
